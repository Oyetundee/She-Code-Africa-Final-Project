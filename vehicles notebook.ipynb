{
 "cells": [
  {
   "cell_type": "markdown",
   "metadata": {},
   "source": [
    "# INTRODUCTION\n",
    "The dataset provided contain information on different vehicles. It’s expected to determine the price of the vehicles by analysing all the info provided in the dataset. It’s obvious that a car’s price is purely determinants on its present state, value of its part, and other parameters. All these parameters are available on the dataset and with adequate analysis, using powerful data analytic techniques, the price will be estimated. \n",
    "It is well known in the “World of Data” that most datasets are not perfect from its source. It always comes with a lot of issues, discrepancies, inconsistencies, and errors that must be checked. This always happens because of how the data is collected or the fault of those inputting them. This vehicle dataset is as such. There are a lot of “Not a Value” fields, confusing inputs, inconsistent values, etc. This is where data cleaning and wrangling comes to play. \n",
    "Cleaning of the data will be done carefully to ensure a pure and adequate dataset that will work best for providing a positive outcome. In this notebook, I will be showing the processes, techniques, and tools I have in my disposal for working on the datasets.\n"
   ]
  },
  {
   "cell_type": "code",
   "execution_count": 1,
   "metadata": {},
   "outputs": [],
   "source": [
    "#import libraries \n",
    "import pandas as pd\n",
    "import numpy as np\n",
    "import matplotlib.pyplot as plt\n",
    "import seaborn as sns\n",
    "from sklearn.preprocessing import LabelEncoder, OneHotEncoder\n",
    "from sklearn.model_selection import train_test_split\n",
    "from sklearn.preprocessing import StandardScaler, MinMaxScaler\n",
    "from sklearn.linear_model import LinearRegression\n",
    "from sklearn import metrics\n",
    "from sklearn.metrics import r2_score\n",
    "from sklearn.tree import DecisionTreeRegressor\n",
    "from sklearn.ensemble import RandomForestRegressor, ExtraTreesRegressor\n",
    "from sklearn.discriminant_analysis import LinearDiscriminantAnalysis as LDA\n",
    "from xgboost import XGBRegressor, XGBRFRegressor\n",
    "from catboost import CatBoostRegressor\n",
    "%matplotlib inline"
   ]
  },
  {
   "cell_type": "code",
   "execution_count": 2,
   "metadata": {},
   "outputs": [],
   "source": [
    "#import dataset\n",
    "data=pd.read_csv('vehicles.csv')"
   ]
  },
  {
   "cell_type": "code",
   "execution_count": 3,
   "metadata": {},
   "outputs": [
    {
     "data": {
      "text/html": [
       "<div>\n",
       "<style scoped>\n",
       "    .dataframe tbody tr th:only-of-type {\n",
       "        vertical-align: middle;\n",
       "    }\n",
       "\n",
       "    .dataframe tbody tr th {\n",
       "        vertical-align: top;\n",
       "    }\n",
       "\n",
       "    .dataframe thead th {\n",
       "        text-align: right;\n",
       "    }\n",
       "</style>\n",
       "<table border=\"1\" class=\"dataframe\">\n",
       "  <thead>\n",
       "    <tr style=\"text-align: right;\">\n",
       "      <th></th>\n",
       "      <th>id</th>\n",
       "      <th>url</th>\n",
       "      <th>region</th>\n",
       "      <th>region_url</th>\n",
       "      <th>price</th>\n",
       "      <th>year</th>\n",
       "      <th>manufacturer</th>\n",
       "      <th>model</th>\n",
       "      <th>condition</th>\n",
       "      <th>cylinders</th>\n",
       "      <th>...</th>\n",
       "      <th>drive</th>\n",
       "      <th>size</th>\n",
       "      <th>type</th>\n",
       "      <th>paint_color</th>\n",
       "      <th>image_url</th>\n",
       "      <th>description</th>\n",
       "      <th>county</th>\n",
       "      <th>state</th>\n",
       "      <th>lat</th>\n",
       "      <th>long</th>\n",
       "    </tr>\n",
       "  </thead>\n",
       "  <tbody>\n",
       "    <tr>\n",
       "      <th>0</th>\n",
       "      <td>7307730503</td>\n",
       "      <td>https://auburn.craigslist.org/cto/d/opelika-ha...</td>\n",
       "      <td>auburn</td>\n",
       "      <td>https://auburn.craigslist.org</td>\n",
       "      <td>9500</td>\n",
       "      <td>2003.0</td>\n",
       "      <td>chrysler</td>\n",
       "      <td>town &amp; country</td>\n",
       "      <td>excellent</td>\n",
       "      <td>6 cylinders</td>\n",
       "      <td>...</td>\n",
       "      <td>fwd</td>\n",
       "      <td>mid-size</td>\n",
       "      <td>mini-van</td>\n",
       "      <td>blue</td>\n",
       "      <td>https://images.craigslist.org/00w0w_41YO8cHlW3...</td>\n",
       "      <td>2003 Chrysler Town and Country Handicapped Acc...</td>\n",
       "      <td>NaN</td>\n",
       "      <td>al</td>\n",
       "      <td>32.614209</td>\n",
       "      <td>-85.326357</td>\n",
       "    </tr>\n",
       "    <tr>\n",
       "      <th>1</th>\n",
       "      <td>7307218858</td>\n",
       "      <td>https://auburn.craigslist.org/ctd/d/auburn-uni...</td>\n",
       "      <td>auburn</td>\n",
       "      <td>https://auburn.craigslist.org</td>\n",
       "      <td>28990</td>\n",
       "      <td>2018.0</td>\n",
       "      <td>gmc</td>\n",
       "      <td>acadia sle-2 sport utility</td>\n",
       "      <td>good</td>\n",
       "      <td>6 cylinders</td>\n",
       "      <td>...</td>\n",
       "      <td>fwd</td>\n",
       "      <td>NaN</td>\n",
       "      <td>other</td>\n",
       "      <td>white</td>\n",
       "      <td>https://images.craigslist.org/00c0c_kXhBir3Ii6...</td>\n",
       "      <td>Carvana is the safer way to buy a car During t...</td>\n",
       "      <td>NaN</td>\n",
       "      <td>al</td>\n",
       "      <td>32.590000</td>\n",
       "      <td>-85.480000</td>\n",
       "    </tr>\n",
       "    <tr>\n",
       "      <th>2</th>\n",
       "      <td>7307164168</td>\n",
       "      <td>https://auburn.craigslist.org/ctd/d/auburn-uni...</td>\n",
       "      <td>auburn</td>\n",
       "      <td>https://auburn.craigslist.org</td>\n",
       "      <td>16590</td>\n",
       "      <td>2013.0</td>\n",
       "      <td>lincoln</td>\n",
       "      <td>mkz sedan 4d</td>\n",
       "      <td>good</td>\n",
       "      <td>NaN</td>\n",
       "      <td>...</td>\n",
       "      <td>fwd</td>\n",
       "      <td>NaN</td>\n",
       "      <td>sedan</td>\n",
       "      <td>red</td>\n",
       "      <td>https://images.craigslist.org/00N0N_1xMPvfxRAI...</td>\n",
       "      <td>Carvana is the safer way to buy a car During t...</td>\n",
       "      <td>NaN</td>\n",
       "      <td>al</td>\n",
       "      <td>32.590000</td>\n",
       "      <td>-85.480000</td>\n",
       "    </tr>\n",
       "    <tr>\n",
       "      <th>3</th>\n",
       "      <td>7307164193</td>\n",
       "      <td>https://auburn.craigslist.org/ctd/d/auburn-uni...</td>\n",
       "      <td>auburn</td>\n",
       "      <td>https://auburn.craigslist.org</td>\n",
       "      <td>28990</td>\n",
       "      <td>2017.0</td>\n",
       "      <td>gmc</td>\n",
       "      <td>acadia slt-1 sport utility</td>\n",
       "      <td>good</td>\n",
       "      <td>6 cylinders</td>\n",
       "      <td>...</td>\n",
       "      <td>fwd</td>\n",
       "      <td>NaN</td>\n",
       "      <td>other</td>\n",
       "      <td>NaN</td>\n",
       "      <td>https://images.craigslist.org/00w0w_b3G8mxfApI...</td>\n",
       "      <td>Carvana is the safer way to buy a car During t...</td>\n",
       "      <td>NaN</td>\n",
       "      <td>al</td>\n",
       "      <td>32.590000</td>\n",
       "      <td>-85.480000</td>\n",
       "    </tr>\n",
       "    <tr>\n",
       "      <th>4</th>\n",
       "      <td>7307142186</td>\n",
       "      <td>https://auburn.craigslist.org/ctd/d/auburn-uni...</td>\n",
       "      <td>auburn</td>\n",
       "      <td>https://auburn.craigslist.org</td>\n",
       "      <td>20590</td>\n",
       "      <td>2017.0</td>\n",
       "      <td>lincoln</td>\n",
       "      <td>mkz premiere sedan 4d</td>\n",
       "      <td>good</td>\n",
       "      <td>NaN</td>\n",
       "      <td>...</td>\n",
       "      <td>fwd</td>\n",
       "      <td>NaN</td>\n",
       "      <td>sedan</td>\n",
       "      <td>NaN</td>\n",
       "      <td>https://images.craigslist.org/00F0F_ghX7UUlnBr...</td>\n",
       "      <td>Carvana is the safer way to buy a car During t...</td>\n",
       "      <td>NaN</td>\n",
       "      <td>al</td>\n",
       "      <td>32.590000</td>\n",
       "      <td>-85.480000</td>\n",
       "    </tr>\n",
       "  </tbody>\n",
       "</table>\n",
       "<p>5 rows × 25 columns</p>\n",
       "</div>"
      ],
      "text/plain": [
       "           id                                                url  region  \\\n",
       "0  7307730503  https://auburn.craigslist.org/cto/d/opelika-ha...  auburn   \n",
       "1  7307218858  https://auburn.craigslist.org/ctd/d/auburn-uni...  auburn   \n",
       "2  7307164168  https://auburn.craigslist.org/ctd/d/auburn-uni...  auburn   \n",
       "3  7307164193  https://auburn.craigslist.org/ctd/d/auburn-uni...  auburn   \n",
       "4  7307142186  https://auburn.craigslist.org/ctd/d/auburn-uni...  auburn   \n",
       "\n",
       "                      region_url  price    year manufacturer  \\\n",
       "0  https://auburn.craigslist.org   9500  2003.0     chrysler   \n",
       "1  https://auburn.craigslist.org  28990  2018.0          gmc   \n",
       "2  https://auburn.craigslist.org  16590  2013.0      lincoln   \n",
       "3  https://auburn.craigslist.org  28990  2017.0          gmc   \n",
       "4  https://auburn.craigslist.org  20590  2017.0      lincoln   \n",
       "\n",
       "                        model  condition    cylinders  ... drive      size  \\\n",
       "0              town & country  excellent  6 cylinders  ...   fwd  mid-size   \n",
       "1  acadia sle-2 sport utility       good  6 cylinders  ...   fwd       NaN   \n",
       "2                mkz sedan 4d       good          NaN  ...   fwd       NaN   \n",
       "3  acadia slt-1 sport utility       good  6 cylinders  ...   fwd       NaN   \n",
       "4       mkz premiere sedan 4d       good          NaN  ...   fwd       NaN   \n",
       "\n",
       "       type paint_color                                          image_url  \\\n",
       "0  mini-van        blue  https://images.craigslist.org/00w0w_41YO8cHlW3...   \n",
       "1     other       white  https://images.craigslist.org/00c0c_kXhBir3Ii6...   \n",
       "2     sedan         red  https://images.craigslist.org/00N0N_1xMPvfxRAI...   \n",
       "3     other         NaN  https://images.craigslist.org/00w0w_b3G8mxfApI...   \n",
       "4     sedan         NaN  https://images.craigslist.org/00F0F_ghX7UUlnBr...   \n",
       "\n",
       "                                         description county state        lat  \\\n",
       "0  2003 Chrysler Town and Country Handicapped Acc...    NaN    al  32.614209   \n",
       "1  Carvana is the safer way to buy a car During t...    NaN    al  32.590000   \n",
       "2  Carvana is the safer way to buy a car During t...    NaN    al  32.590000   \n",
       "3  Carvana is the safer way to buy a car During t...    NaN    al  32.590000   \n",
       "4  Carvana is the safer way to buy a car During t...    NaN    al  32.590000   \n",
       "\n",
       "        long  \n",
       "0 -85.326357  \n",
       "1 -85.480000  \n",
       "2 -85.480000  \n",
       "3 -85.480000  \n",
       "4 -85.480000  \n",
       "\n",
       "[5 rows x 25 columns]"
      ]
     },
     "execution_count": 3,
     "metadata": {},
     "output_type": "execute_result"
    }
   ],
   "source": [
    "data.head()"
   ]
  },
  {
   "cell_type": "code",
   "execution_count": 4,
   "metadata": {},
   "outputs": [
    {
     "data": {
      "text/plain": [
       "(441396, 25)"
      ]
     },
     "execution_count": 4,
     "metadata": {},
     "output_type": "execute_result"
    }
   ],
   "source": [
    "data.shape"
   ]
  },
  {
   "cell_type": "code",
   "execution_count": 5,
   "metadata": {},
   "outputs": [
    {
     "name": "stdout",
     "output_type": "stream",
     "text": [
      "<class 'pandas.core.frame.DataFrame'>\n",
      "RangeIndex: 441396 entries, 0 to 441395\n",
      "Data columns (total 25 columns):\n",
      " #   Column        Non-Null Count   Dtype  \n",
      "---  ------        --------------   -----  \n",
      " 0   id            441396 non-null  int64  \n",
      " 1   url           441396 non-null  object \n",
      " 2   region        441396 non-null  object \n",
      " 3   region_url    441396 non-null  object \n",
      " 4   price         441396 non-null  int64  \n",
      " 5   year          440359 non-null  float64\n",
      " 6   manufacturer  423019 non-null  object \n",
      " 7   model         436057 non-null  object \n",
      " 8   condition     257554 non-null  object \n",
      " 9   cylinders     253231 non-null  object \n",
      " 10  fuel          438515 non-null  object \n",
      " 11  odometer      437018 non-null  float64\n",
      " 12  title_status  432451 non-null  object \n",
      " 13  transmission  438769 non-null  object \n",
      " 14  VIN           277315 non-null  object \n",
      " 15  drive         307747 non-null  object \n",
      " 16  size          125812 non-null  object \n",
      " 17  type          346047 non-null  object \n",
      " 18  paint_color   308374 non-null  object \n",
      " 19  image_url     441343 non-null  object \n",
      " 20  description   441340 non-null  object \n",
      " 21  county        0 non-null       float64\n",
      " 22  state         441396 non-null  object \n",
      " 23  lat           434669 non-null  float64\n",
      " 24  long          434669 non-null  float64\n",
      "dtypes: float64(5), int64(2), object(18)\n",
      "memory usage: 84.2+ MB\n"
     ]
    }
   ],
   "source": [
    "data.info()"
   ]
  },
  {
   "cell_type": "code",
   "execution_count": 6,
   "metadata": {},
   "outputs": [
    {
     "data": {
      "text/html": [
       "<div>\n",
       "<style scoped>\n",
       "    .dataframe tbody tr th:only-of-type {\n",
       "        vertical-align: middle;\n",
       "    }\n",
       "\n",
       "    .dataframe tbody tr th {\n",
       "        vertical-align: top;\n",
       "    }\n",
       "\n",
       "    .dataframe thead th {\n",
       "        text-align: right;\n",
       "    }\n",
       "</style>\n",
       "<table border=\"1\" class=\"dataframe\">\n",
       "  <thead>\n",
       "    <tr style=\"text-align: right;\">\n",
       "      <th></th>\n",
       "      <th>id</th>\n",
       "      <th>price</th>\n",
       "      <th>year</th>\n",
       "      <th>odometer</th>\n",
       "      <th>county</th>\n",
       "      <th>lat</th>\n",
       "      <th>long</th>\n",
       "    </tr>\n",
       "  </thead>\n",
       "  <tbody>\n",
       "    <tr>\n",
       "      <th>count</th>\n",
       "      <td>4.413960e+05</td>\n",
       "      <td>4.413960e+05</td>\n",
       "      <td>440359.000000</td>\n",
       "      <td>4.370180e+05</td>\n",
       "      <td>0.0</td>\n",
       "      <td>434669.000000</td>\n",
       "      <td>434669.000000</td>\n",
       "    </tr>\n",
       "    <tr>\n",
       "      <th>mean</th>\n",
       "      <td>7.302968e+09</td>\n",
       "      <td>6.400219e+04</td>\n",
       "      <td>2011.491508</td>\n",
       "      <td>2.252556e+05</td>\n",
       "      <td>NaN</td>\n",
       "      <td>38.474609</td>\n",
       "      <td>-94.567008</td>\n",
       "    </tr>\n",
       "    <tr>\n",
       "      <th>std</th>\n",
       "      <td>4.524183e+06</td>\n",
       "      <td>1.109241e+07</td>\n",
       "      <td>9.271752</td>\n",
       "      <td>1.601536e+07</td>\n",
       "      <td>NaN</td>\n",
       "      <td>5.856119</td>\n",
       "      <td>18.237828</td>\n",
       "    </tr>\n",
       "    <tr>\n",
       "      <th>min</th>\n",
       "      <td>7.208550e+09</td>\n",
       "      <td>0.000000e+00</td>\n",
       "      <td>1900.000000</td>\n",
       "      <td>0.000000e+00</td>\n",
       "      <td>NaN</td>\n",
       "      <td>-73.081059</td>\n",
       "      <td>-175.319824</td>\n",
       "    </tr>\n",
       "    <tr>\n",
       "      <th>25%</th>\n",
       "      <td>7.299673e+09</td>\n",
       "      <td>5.950000e+03</td>\n",
       "      <td>2009.000000</td>\n",
       "      <td>3.942700e+04</td>\n",
       "      <td>NaN</td>\n",
       "      <td>34.429600</td>\n",
       "      <td>-111.800000</td>\n",
       "    </tr>\n",
       "    <tr>\n",
       "      <th>50%</th>\n",
       "      <td>7.303986e+09</td>\n",
       "      <td>1.347750e+04</td>\n",
       "      <td>2014.000000</td>\n",
       "      <td>8.500000e+04</td>\n",
       "      <td>NaN</td>\n",
       "      <td>39.157300</td>\n",
       "      <td>-88.167287</td>\n",
       "    </tr>\n",
       "    <tr>\n",
       "      <th>75%</th>\n",
       "      <td>7.306984e+09</td>\n",
       "      <td>2.499900e+04</td>\n",
       "      <td>2017.000000</td>\n",
       "      <td>1.310000e+05</td>\n",
       "      <td>NaN</td>\n",
       "      <td>42.354200</td>\n",
       "      <td>-80.832500</td>\n",
       "    </tr>\n",
       "    <tr>\n",
       "      <th>max</th>\n",
       "      <td>7.308634e+09</td>\n",
       "      <td>3.736929e+09</td>\n",
       "      <td>2022.000000</td>\n",
       "      <td>2.000799e+09</td>\n",
       "      <td>NaN</td>\n",
       "      <td>84.620231</td>\n",
       "      <td>173.885502</td>\n",
       "    </tr>\n",
       "  </tbody>\n",
       "</table>\n",
       "</div>"
      ],
      "text/plain": [
       "                 id         price           year      odometer  county  \\\n",
       "count  4.413960e+05  4.413960e+05  440359.000000  4.370180e+05     0.0   \n",
       "mean   7.302968e+09  6.400219e+04    2011.491508  2.252556e+05     NaN   \n",
       "std    4.524183e+06  1.109241e+07       9.271752  1.601536e+07     NaN   \n",
       "min    7.208550e+09  0.000000e+00    1900.000000  0.000000e+00     NaN   \n",
       "25%    7.299673e+09  5.950000e+03    2009.000000  3.942700e+04     NaN   \n",
       "50%    7.303986e+09  1.347750e+04    2014.000000  8.500000e+04     NaN   \n",
       "75%    7.306984e+09  2.499900e+04    2017.000000  1.310000e+05     NaN   \n",
       "max    7.308634e+09  3.736929e+09    2022.000000  2.000799e+09     NaN   \n",
       "\n",
       "                 lat           long  \n",
       "count  434669.000000  434669.000000  \n",
       "mean       38.474609     -94.567008  \n",
       "std         5.856119      18.237828  \n",
       "min       -73.081059    -175.319824  \n",
       "25%        34.429600    -111.800000  \n",
       "50%        39.157300     -88.167287  \n",
       "75%        42.354200     -80.832500  \n",
       "max        84.620231     173.885502  "
      ]
     },
     "execution_count": 6,
     "metadata": {},
     "output_type": "execute_result"
    }
   ],
   "source": [
    "data.describe()"
   ]
  },
  {
   "cell_type": "code",
   "execution_count": 7,
   "metadata": {},
   "outputs": [
    {
     "data": {
      "text/plain": [
       "id                   0\n",
       "url                  0\n",
       "region               0\n",
       "region_url           0\n",
       "price                0\n",
       "year              1037\n",
       "manufacturer     18377\n",
       "model             5339\n",
       "condition       183842\n",
       "cylinders       188165\n",
       "fuel              2881\n",
       "odometer          4378\n",
       "title_status      8945\n",
       "transmission      2627\n",
       "VIN             164081\n",
       "drive           133649\n",
       "size            315584\n",
       "type             95349\n",
       "paint_color     133022\n",
       "image_url           53\n",
       "description         56\n",
       "county          441396\n",
       "state                0\n",
       "lat               6727\n",
       "long              6727\n",
       "dtype: int64"
      ]
     },
     "execution_count": 7,
     "metadata": {},
     "output_type": "execute_result"
    }
   ],
   "source": [
    "data.isnull().sum()"
   ]
  },
  {
   "cell_type": "code",
   "execution_count": 8,
   "metadata": {},
   "outputs": [
    {
     "data": {
      "text/plain": [
       "id              0.000000\n",
       "url             0.000000\n",
       "region          0.000000\n",
       "region_url      0.000000\n",
       "price           0.000000\n",
       "year            0.002349\n",
       "manufacturer    0.041634\n",
       "model           0.012096\n",
       "condition       0.416501\n",
       "cylinders       0.426295\n",
       "fuel            0.006527\n",
       "odometer        0.009919\n",
       "title_status    0.020265\n",
       "transmission    0.005952\n",
       "VIN             0.371732\n",
       "drive           0.302787\n",
       "size            0.714968\n",
       "type            0.216017\n",
       "paint_color     0.301367\n",
       "image_url       0.000120\n",
       "description     0.000127\n",
       "county          1.000000\n",
       "state           0.000000\n",
       "lat             0.015240\n",
       "long            0.015240\n",
       "dtype: float64"
      ]
     },
     "execution_count": 8,
     "metadata": {},
     "output_type": "execute_result"
    }
   ],
   "source": [
    "data.isnull().sum()/len(data)"
   ]
  },
  {
   "cell_type": "code",
   "execution_count": 9,
   "metadata": {},
   "outputs": [],
   "source": [
    "# Dropping columns that have too many missing values and those that might not impact in the determination of the price\n",
    "data2 = data.drop(['county', 'VIN', 'drive', 'size', 'paint_color', 'long', 'lat', 'image_url', 'cylinders', 'condition', 'region_url', 'url'], axis = 1)"
   ]
  },
  {
   "cell_type": "code",
   "execution_count": 10,
   "metadata": {},
   "outputs": [
    {
     "data": {
      "text/html": [
       "<div>\n",
       "<style scoped>\n",
       "    .dataframe tbody tr th:only-of-type {\n",
       "        vertical-align: middle;\n",
       "    }\n",
       "\n",
       "    .dataframe tbody tr th {\n",
       "        vertical-align: top;\n",
       "    }\n",
       "\n",
       "    .dataframe thead th {\n",
       "        text-align: right;\n",
       "    }\n",
       "</style>\n",
       "<table border=\"1\" class=\"dataframe\">\n",
       "  <thead>\n",
       "    <tr style=\"text-align: right;\">\n",
       "      <th></th>\n",
       "      <th>id</th>\n",
       "      <th>region</th>\n",
       "      <th>price</th>\n",
       "      <th>year</th>\n",
       "      <th>manufacturer</th>\n",
       "      <th>model</th>\n",
       "      <th>fuel</th>\n",
       "      <th>odometer</th>\n",
       "      <th>title_status</th>\n",
       "      <th>transmission</th>\n",
       "      <th>type</th>\n",
       "      <th>description</th>\n",
       "      <th>state</th>\n",
       "    </tr>\n",
       "  </thead>\n",
       "  <tbody>\n",
       "    <tr>\n",
       "      <th>0</th>\n",
       "      <td>7307730503</td>\n",
       "      <td>auburn</td>\n",
       "      <td>9500</td>\n",
       "      <td>2003.0</td>\n",
       "      <td>chrysler</td>\n",
       "      <td>town &amp; country</td>\n",
       "      <td>gas</td>\n",
       "      <td>30376.0</td>\n",
       "      <td>clean</td>\n",
       "      <td>automatic</td>\n",
       "      <td>mini-van</td>\n",
       "      <td>2003 Chrysler Town and Country Handicapped Acc...</td>\n",
       "      <td>al</td>\n",
       "    </tr>\n",
       "    <tr>\n",
       "      <th>1</th>\n",
       "      <td>7307218858</td>\n",
       "      <td>auburn</td>\n",
       "      <td>28990</td>\n",
       "      <td>2018.0</td>\n",
       "      <td>gmc</td>\n",
       "      <td>acadia sle-2 sport utility</td>\n",
       "      <td>gas</td>\n",
       "      <td>20736.0</td>\n",
       "      <td>clean</td>\n",
       "      <td>other</td>\n",
       "      <td>other</td>\n",
       "      <td>Carvana is the safer way to buy a car During t...</td>\n",
       "      <td>al</td>\n",
       "    </tr>\n",
       "    <tr>\n",
       "      <th>2</th>\n",
       "      <td>7307164168</td>\n",
       "      <td>auburn</td>\n",
       "      <td>16590</td>\n",
       "      <td>2013.0</td>\n",
       "      <td>lincoln</td>\n",
       "      <td>mkz sedan 4d</td>\n",
       "      <td>gas</td>\n",
       "      <td>61087.0</td>\n",
       "      <td>clean</td>\n",
       "      <td>other</td>\n",
       "      <td>sedan</td>\n",
       "      <td>Carvana is the safer way to buy a car During t...</td>\n",
       "      <td>al</td>\n",
       "    </tr>\n",
       "    <tr>\n",
       "      <th>3</th>\n",
       "      <td>7307164193</td>\n",
       "      <td>auburn</td>\n",
       "      <td>28990</td>\n",
       "      <td>2017.0</td>\n",
       "      <td>gmc</td>\n",
       "      <td>acadia slt-1 sport utility</td>\n",
       "      <td>gas</td>\n",
       "      <td>18041.0</td>\n",
       "      <td>clean</td>\n",
       "      <td>other</td>\n",
       "      <td>other</td>\n",
       "      <td>Carvana is the safer way to buy a car During t...</td>\n",
       "      <td>al</td>\n",
       "    </tr>\n",
       "    <tr>\n",
       "      <th>4</th>\n",
       "      <td>7307142186</td>\n",
       "      <td>auburn</td>\n",
       "      <td>20590</td>\n",
       "      <td>2017.0</td>\n",
       "      <td>lincoln</td>\n",
       "      <td>mkz premiere sedan 4d</td>\n",
       "      <td>gas</td>\n",
       "      <td>36436.0</td>\n",
       "      <td>clean</td>\n",
       "      <td>other</td>\n",
       "      <td>sedan</td>\n",
       "      <td>Carvana is the safer way to buy a car During t...</td>\n",
       "      <td>al</td>\n",
       "    </tr>\n",
       "  </tbody>\n",
       "</table>\n",
       "</div>"
      ],
      "text/plain": [
       "           id  region  price    year manufacturer                       model  \\\n",
       "0  7307730503  auburn   9500  2003.0     chrysler              town & country   \n",
       "1  7307218858  auburn  28990  2018.0          gmc  acadia sle-2 sport utility   \n",
       "2  7307164168  auburn  16590  2013.0      lincoln                mkz sedan 4d   \n",
       "3  7307164193  auburn  28990  2017.0          gmc  acadia slt-1 sport utility   \n",
       "4  7307142186  auburn  20590  2017.0      lincoln       mkz premiere sedan 4d   \n",
       "\n",
       "  fuel  odometer title_status transmission      type  \\\n",
       "0  gas   30376.0        clean    automatic  mini-van   \n",
       "1  gas   20736.0        clean        other     other   \n",
       "2  gas   61087.0        clean        other     sedan   \n",
       "3  gas   18041.0        clean        other     other   \n",
       "4  gas   36436.0        clean        other     sedan   \n",
       "\n",
       "                                         description state  \n",
       "0  2003 Chrysler Town and Country Handicapped Acc...    al  \n",
       "1  Carvana is the safer way to buy a car During t...    al  \n",
       "2  Carvana is the safer way to buy a car During t...    al  \n",
       "3  Carvana is the safer way to buy a car During t...    al  \n",
       "4  Carvana is the safer way to buy a car During t...    al  "
      ]
     },
     "execution_count": 10,
     "metadata": {},
     "output_type": "execute_result"
    }
   ],
   "source": [
    "data2.head()"
   ]
  },
  {
   "cell_type": "code",
   "execution_count": 11,
   "metadata": {},
   "outputs": [],
   "source": [
    "data2['type'] = data2['type'].fillna('other')"
   ]
  },
  {
   "cell_type": "code",
   "execution_count": 12,
   "metadata": {},
   "outputs": [],
   "source": [
    "#Descrion of the car won't be important in determining the price of the car\n",
    "data3 = data2.drop(['description'], axis= 1)"
   ]
  },
  {
   "cell_type": "code",
   "execution_count": 13,
   "metadata": {},
   "outputs": [
    {
     "data": {
      "text/plain": [
       "id                  0\n",
       "region              0\n",
       "price               0\n",
       "year             1037\n",
       "manufacturer    18377\n",
       "model            5339\n",
       "fuel             2881\n",
       "odometer         4378\n",
       "title_status     8945\n",
       "transmission     2627\n",
       "type                0\n",
       "state               0\n",
       "dtype: int64"
      ]
     },
     "execution_count": 13,
     "metadata": {},
     "output_type": "execute_result"
    }
   ],
   "source": [
    "data3.isnull().sum()"
   ]
  },
  {
   "cell_type": "code",
   "execution_count": 14,
   "metadata": {},
   "outputs": [
    {
     "data": {
      "text/plain": [
       "automatic    357948\n",
       "other         56114\n",
       "manual        24707\n",
       "Name: transmission, dtype: int64"
      ]
     },
     "execution_count": 14,
     "metadata": {},
     "output_type": "execute_result"
    }
   ],
   "source": [
    "data3['transmission'].value_counts()"
   ]
  },
  {
   "cell_type": "code",
   "execution_count": 15,
   "metadata": {},
   "outputs": [],
   "source": [
    "#If we add 'automatic' in the 2000+ missing transmission column, \n",
    "#it wont have much impact compaired to when added to other and manual because their value are smaller\n",
    "\n",
    "data3['transmission'] = data3['transmission'].fillna('atomatic')"
   ]
  },
  {
   "cell_type": "code",
   "execution_count": 16,
   "metadata": {},
   "outputs": [
    {
     "data": {
      "text/html": [
       "<div>\n",
       "<style scoped>\n",
       "    .dataframe tbody tr th:only-of-type {\n",
       "        vertical-align: middle;\n",
       "    }\n",
       "\n",
       "    .dataframe tbody tr th {\n",
       "        vertical-align: top;\n",
       "    }\n",
       "\n",
       "    .dataframe thead th {\n",
       "        text-align: right;\n",
       "    }\n",
       "</style>\n",
       "<table border=\"1\" class=\"dataframe\">\n",
       "  <thead>\n",
       "    <tr style=\"text-align: right;\">\n",
       "      <th></th>\n",
       "      <th>id</th>\n",
       "      <th>region</th>\n",
       "      <th>price</th>\n",
       "      <th>year</th>\n",
       "      <th>manufacturer</th>\n",
       "      <th>model</th>\n",
       "      <th>fuel</th>\n",
       "      <th>odometer</th>\n",
       "      <th>title_status</th>\n",
       "      <th>transmission</th>\n",
       "      <th>type</th>\n",
       "      <th>state</th>\n",
       "    </tr>\n",
       "  </thead>\n",
       "  <tbody>\n",
       "    <tr>\n",
       "      <th>0</th>\n",
       "      <td>7307730503</td>\n",
       "      <td>auburn</td>\n",
       "      <td>9500</td>\n",
       "      <td>2003.0</td>\n",
       "      <td>chrysler</td>\n",
       "      <td>town &amp; country</td>\n",
       "      <td>gas</td>\n",
       "      <td>30376.0</td>\n",
       "      <td>clean</td>\n",
       "      <td>automatic</td>\n",
       "      <td>mini-van</td>\n",
       "      <td>al</td>\n",
       "    </tr>\n",
       "    <tr>\n",
       "      <th>1</th>\n",
       "      <td>7307218858</td>\n",
       "      <td>auburn</td>\n",
       "      <td>28990</td>\n",
       "      <td>2018.0</td>\n",
       "      <td>gmc</td>\n",
       "      <td>acadia sle-2 sport utility</td>\n",
       "      <td>gas</td>\n",
       "      <td>20736.0</td>\n",
       "      <td>clean</td>\n",
       "      <td>other</td>\n",
       "      <td>other</td>\n",
       "      <td>al</td>\n",
       "    </tr>\n",
       "    <tr>\n",
       "      <th>2</th>\n",
       "      <td>7307164168</td>\n",
       "      <td>auburn</td>\n",
       "      <td>16590</td>\n",
       "      <td>2013.0</td>\n",
       "      <td>lincoln</td>\n",
       "      <td>mkz sedan 4d</td>\n",
       "      <td>gas</td>\n",
       "      <td>61087.0</td>\n",
       "      <td>clean</td>\n",
       "      <td>other</td>\n",
       "      <td>sedan</td>\n",
       "      <td>al</td>\n",
       "    </tr>\n",
       "    <tr>\n",
       "      <th>3</th>\n",
       "      <td>7307164193</td>\n",
       "      <td>auburn</td>\n",
       "      <td>28990</td>\n",
       "      <td>2017.0</td>\n",
       "      <td>gmc</td>\n",
       "      <td>acadia slt-1 sport utility</td>\n",
       "      <td>gas</td>\n",
       "      <td>18041.0</td>\n",
       "      <td>clean</td>\n",
       "      <td>other</td>\n",
       "      <td>other</td>\n",
       "      <td>al</td>\n",
       "    </tr>\n",
       "    <tr>\n",
       "      <th>4</th>\n",
       "      <td>7307142186</td>\n",
       "      <td>auburn</td>\n",
       "      <td>20590</td>\n",
       "      <td>2017.0</td>\n",
       "      <td>lincoln</td>\n",
       "      <td>mkz premiere sedan 4d</td>\n",
       "      <td>gas</td>\n",
       "      <td>36436.0</td>\n",
       "      <td>clean</td>\n",
       "      <td>other</td>\n",
       "      <td>sedan</td>\n",
       "      <td>al</td>\n",
       "    </tr>\n",
       "  </tbody>\n",
       "</table>\n",
       "</div>"
      ],
      "text/plain": [
       "           id  region  price    year manufacturer                       model  \\\n",
       "0  7307730503  auburn   9500  2003.0     chrysler              town & country   \n",
       "1  7307218858  auburn  28990  2018.0          gmc  acadia sle-2 sport utility   \n",
       "2  7307164168  auburn  16590  2013.0      lincoln                mkz sedan 4d   \n",
       "3  7307164193  auburn  28990  2017.0          gmc  acadia slt-1 sport utility   \n",
       "4  7307142186  auburn  20590  2017.0      lincoln       mkz premiere sedan 4d   \n",
       "\n",
       "  fuel  odometer title_status transmission      type state  \n",
       "0  gas   30376.0        clean    automatic  mini-van    al  \n",
       "1  gas   20736.0        clean        other     other    al  \n",
       "2  gas   61087.0        clean        other     sedan    al  \n",
       "3  gas   18041.0        clean        other     other    al  \n",
       "4  gas   36436.0        clean        other     sedan    al  "
      ]
     },
     "execution_count": 16,
     "metadata": {},
     "output_type": "execute_result"
    }
   ],
   "source": [
    "data3.head()"
   ]
  },
  {
   "cell_type": "code",
   "execution_count": 17,
   "metadata": {},
   "outputs": [
    {
     "data": {
      "text/plain": [
       "id                  0\n",
       "region              0\n",
       "price               0\n",
       "year             1037\n",
       "manufacturer    18377\n",
       "model            5339\n",
       "fuel             2881\n",
       "odometer         4378\n",
       "title_status     8945\n",
       "transmission        0\n",
       "type                0\n",
       "state               0\n",
       "dtype: int64"
      ]
     },
     "execution_count": 17,
     "metadata": {},
     "output_type": "execute_result"
    }
   ],
   "source": [
    "data3.isnull().sum()"
   ]
  },
  {
   "cell_type": "code",
   "execution_count": 18,
   "metadata": {},
   "outputs": [
    {
     "data": {
      "text/plain": [
       "clean         418054\n",
       "rebuilt         7908\n",
       "salvage         3984\n",
       "lien            1514\n",
       "missing          791\n",
       "parts only       200\n",
       "Name: title_status, dtype: int64"
      ]
     },
     "execution_count": 18,
     "metadata": {},
     "output_type": "execute_result"
    }
   ],
   "source": [
    "data3['title_status'].value_counts()"
   ]
  },
  {
   "cell_type": "code",
   "execution_count": 19,
   "metadata": {},
   "outputs": [],
   "source": [
    "#If we add 'clean' in the 8000+ missing title_status column, \n",
    "#it wont have much impact compaired to when added to others\n",
    "\n",
    "data3['title_status'] = data3['title_status'].fillna('clean')"
   ]
  },
  {
   "cell_type": "code",
   "execution_count": 20,
   "metadata": {},
   "outputs": [
    {
     "data": {
      "text/plain": [
       "id                  0\n",
       "region              0\n",
       "price               0\n",
       "year             1037\n",
       "manufacturer    18377\n",
       "model            5339\n",
       "fuel             2881\n",
       "odometer         4378\n",
       "title_status        0\n",
       "transmission        0\n",
       "type                0\n",
       "state               0\n",
       "dtype: int64"
      ]
     },
     "execution_count": 20,
     "metadata": {},
     "output_type": "execute_result"
    }
   ],
   "source": [
    "data3.isnull().sum()"
   ]
  },
  {
   "cell_type": "code",
   "execution_count": 21,
   "metadata": {},
   "outputs": [
    {
     "data": {
      "text/plain": [
       "2000799401.0"
      ]
     },
     "execution_count": 21,
     "metadata": {},
     "output_type": "execute_result"
    }
   ],
   "source": [
    "data3['odometer'].max()"
   ]
  },
  {
   "cell_type": "code",
   "execution_count": 22,
   "metadata": {},
   "outputs": [
    {
     "data": {
      "text/plain": [
       "0.0"
      ]
     },
     "execution_count": 22,
     "metadata": {},
     "output_type": "execute_result"
    }
   ],
   "source": [
    "data3['odometer'].min()"
   ]
  },
  {
   "cell_type": "code",
   "execution_count": 23,
   "metadata": {},
   "outputs": [
    {
     "data": {
      "text/plain": [
       "225255.58168313434"
      ]
     },
     "execution_count": 23,
     "metadata": {},
     "output_type": "execute_result"
    }
   ],
   "source": [
    "data3['odometer'].mean()"
   ]
  },
  {
   "cell_type": "code",
   "execution_count": 24,
   "metadata": {},
   "outputs": [],
   "source": [
    "#fill missing odometer column with the average\n",
    "\n",
    "data3['odometer'] = data3['odometer'].fillna(data3['odometer'].mean())"
   ]
  },
  {
   "cell_type": "code",
   "execution_count": 25,
   "metadata": {},
   "outputs": [
    {
     "data": {
      "text/plain": [
       "id                  0\n",
       "region              0\n",
       "price               0\n",
       "year             1037\n",
       "manufacturer    18377\n",
       "model            5339\n",
       "fuel             2881\n",
       "odometer            0\n",
       "title_status        0\n",
       "transmission        0\n",
       "type                0\n",
       "state               0\n",
       "dtype: int64"
      ]
     },
     "execution_count": 25,
     "metadata": {},
     "output_type": "execute_result"
    }
   ],
   "source": [
    "data3.isnull().sum()"
   ]
  },
  {
   "cell_type": "code",
   "execution_count": 26,
   "metadata": {},
   "outputs": [
    {
     "data": {
      "text/plain": [
       "gas         367217\n",
       "other        33406\n",
       "diesel       30728\n",
       "hybrid        5358\n",
       "electric      1806\n",
       "Name: fuel, dtype: int64"
      ]
     },
     "execution_count": 26,
     "metadata": {},
     "output_type": "execute_result"
    }
   ],
   "source": [
    "data3['fuel'].value_counts()"
   ]
  },
  {
   "cell_type": "code",
   "execution_count": 27,
   "metadata": {},
   "outputs": [],
   "source": [
    "#If we add 'gas' in the 2000+ missing fuel column, \n",
    "#it wont have much impact compaired to when added to others\n",
    "\n",
    "data3['fuel'] = data3['fuel'].fillna('gas')"
   ]
  },
  {
   "cell_type": "code",
   "execution_count": 28,
   "metadata": {},
   "outputs": [
    {
     "data": {
      "text/plain": [
       "id                  0\n",
       "region              0\n",
       "price               0\n",
       "year             1037\n",
       "manufacturer    18377\n",
       "model            5339\n",
       "fuel                0\n",
       "odometer            0\n",
       "title_status        0\n",
       "transmission        0\n",
       "type                0\n",
       "state               0\n",
       "dtype: int64"
      ]
     },
     "execution_count": 28,
     "metadata": {},
     "output_type": "execute_result"
    }
   ],
   "source": [
    "data3.isnull().sum()"
   ]
  },
  {
   "cell_type": "code",
   "execution_count": 29,
   "metadata": {},
   "outputs": [
    {
     "data": {
      "text/plain": [
       "f-150                            8006\n",
       "silverado 1500                   5466\n",
       "1500                             4310\n",
       "camry                            3345\n",
       "accord                           3269\n",
       "                                 ... \n",
       "quest 4dr le                        1\n",
       "corvette coup                       1\n",
       "benz glk-350 with 41000 miles       1\n",
       "Maxda Tribute                       1\n",
       "aveo5 lt                            1\n",
       "Name: model, Length: 30082, dtype: int64"
      ]
     },
     "execution_count": 29,
     "metadata": {},
     "output_type": "execute_result"
    }
   ],
   "source": [
    "data3['model'].value_counts()"
   ]
  },
  {
   "cell_type": "code",
   "execution_count": 30,
   "metadata": {},
   "outputs": [],
   "source": [
    "#If we add 'f-150' in the 8000+ missing model column, \n",
    "#it wont have much impact compaired to when added to others\n",
    "\n",
    "data3['model'] = data3['model'].fillna('f-150')"
   ]
  },
  {
   "cell_type": "code",
   "execution_count": 31,
   "metadata": {},
   "outputs": [
    {
     "data": {
      "text/plain": [
       "id                  0\n",
       "region              0\n",
       "price               0\n",
       "year             1037\n",
       "manufacturer    18377\n",
       "model               0\n",
       "fuel                0\n",
       "odometer            0\n",
       "title_status        0\n",
       "transmission        0\n",
       "type                0\n",
       "state               0\n",
       "dtype: int64"
      ]
     },
     "execution_count": 31,
     "metadata": {},
     "output_type": "execute_result"
    }
   ],
   "source": [
    "data3.isnull().sum()"
   ]
  },
  {
   "cell_type": "code",
   "execution_count": 32,
   "metadata": {},
   "outputs": [
    {
     "data": {
      "text/plain": [
       "2018.0    38411\n",
       "2017.0    36799\n",
       "2015.0    33075\n",
       "2013.0    32130\n",
       "2014.0    31985\n",
       "          ...  \n",
       "1920.0        2\n",
       "1919.0        2\n",
       "1918.0        2\n",
       "1917.0        1\n",
       "1901.0        1\n",
       "Name: year, Length: 110, dtype: int64"
      ]
     },
     "execution_count": 32,
     "metadata": {},
     "output_type": "execute_result"
    }
   ],
   "source": [
    "data3['year'].value_counts()"
   ]
  },
  {
   "cell_type": "code",
   "execution_count": 33,
   "metadata": {},
   "outputs": [],
   "source": [
    "#If we add 2018 in the 1000+ missing year column, \n",
    "#it wont have much impact compaired to when added to others\n",
    "\n",
    "data3['year'] = data3['year'].fillna(2018)"
   ]
  },
  {
   "cell_type": "code",
   "execution_count": 34,
   "metadata": {},
   "outputs": [
    {
     "data": {
      "text/plain": [
       "id                  0\n",
       "region              0\n",
       "price               0\n",
       "year                0\n",
       "manufacturer    18377\n",
       "model               0\n",
       "fuel                0\n",
       "odometer            0\n",
       "title_status        0\n",
       "transmission        0\n",
       "type                0\n",
       "state               0\n",
       "dtype: int64"
      ]
     },
     "execution_count": 34,
     "metadata": {},
     "output_type": "execute_result"
    }
   ],
   "source": [
    "data3.isnull().sum()"
   ]
  },
  {
   "cell_type": "code",
   "execution_count": 35,
   "metadata": {},
   "outputs": [
    {
     "data": {
      "text/plain": [
       "ford               70467\n",
       "chevrolet          56172\n",
       "toyota             35508\n",
       "honda              22066\n",
       "nissan             20072\n",
       "jeep               19517\n",
       "ram                18335\n",
       "gmc                16420\n",
       "bmw                15900\n",
       "dodge              13972\n",
       "mercedes-benz      12680\n",
       "hyundai            11448\n",
       "volkswagen          9601\n",
       "subaru              9419\n",
       "lexus               9383\n",
       "kia                 8929\n",
       "audi                8018\n",
       "cadillac            7374\n",
       "chrysler            6607\n",
       "acura               6382\n",
       "infiniti            5772\n",
       "buick               5747\n",
       "lincoln             5201\n",
       "mazda               5000\n",
       "mitsubishi          3751\n",
       "volvo               3498\n",
       "pontiac             2453\n",
       "rover               2348\n",
       "jaguar              2308\n",
       "mini                2304\n",
       "porsche             1303\n",
       "mercury             1172\n",
       "alfa-romeo          1148\n",
       "saturn               986\n",
       "tesla                736\n",
       "fiat                 711\n",
       "harley-davidson      110\n",
       "ferrari               92\n",
       "datsun                53\n",
       "land rover            27\n",
       "aston-martin          24\n",
       "morgan                 5\n",
       "Name: manufacturer, dtype: int64"
      ]
     },
     "execution_count": 35,
     "metadata": {},
     "output_type": "execute_result"
    }
   ],
   "source": [
    "data3['manufacturer'].value_counts()"
   ]
  },
  {
   "cell_type": "code",
   "execution_count": 36,
   "metadata": {},
   "outputs": [],
   "source": [
    "#If we add ford in the 1000+ missing manufacturer column, \n",
    "#it wont have much impact compaired to when added to others\n",
    "\n",
    "data3['manufacturer'] = data3['manufacturer'].fillna('ford')"
   ]
  },
  {
   "cell_type": "code",
   "execution_count": 37,
   "metadata": {},
   "outputs": [
    {
     "data": {
      "text/plain": [
       "id              0\n",
       "region          0\n",
       "price           0\n",
       "year            0\n",
       "manufacturer    0\n",
       "model           0\n",
       "fuel            0\n",
       "odometer        0\n",
       "title_status    0\n",
       "transmission    0\n",
       "type            0\n",
       "state           0\n",
       "dtype: int64"
      ]
     },
     "execution_count": 37,
     "metadata": {},
     "output_type": "execute_result"
    }
   ],
   "source": [
    "data3.isnull().sum()"
   ]
  },
  {
   "cell_type": "code",
   "execution_count": 38,
   "metadata": {},
   "outputs": [
    {
     "data": {
      "text/html": [
       "<div>\n",
       "<style scoped>\n",
       "    .dataframe tbody tr th:only-of-type {\n",
       "        vertical-align: middle;\n",
       "    }\n",
       "\n",
       "    .dataframe tbody tr th {\n",
       "        vertical-align: top;\n",
       "    }\n",
       "\n",
       "    .dataframe thead th {\n",
       "        text-align: right;\n",
       "    }\n",
       "</style>\n",
       "<table border=\"1\" class=\"dataframe\">\n",
       "  <thead>\n",
       "    <tr style=\"text-align: right;\">\n",
       "      <th></th>\n",
       "      <th>id</th>\n",
       "      <th>region</th>\n",
       "      <th>price</th>\n",
       "      <th>year</th>\n",
       "      <th>manufacturer</th>\n",
       "      <th>model</th>\n",
       "      <th>fuel</th>\n",
       "      <th>odometer</th>\n",
       "      <th>title_status</th>\n",
       "      <th>transmission</th>\n",
       "      <th>type</th>\n",
       "      <th>state</th>\n",
       "    </tr>\n",
       "  </thead>\n",
       "  <tbody>\n",
       "    <tr>\n",
       "      <th>0</th>\n",
       "      <td>7307730503</td>\n",
       "      <td>auburn</td>\n",
       "      <td>9500</td>\n",
       "      <td>2003.0</td>\n",
       "      <td>chrysler</td>\n",
       "      <td>town &amp; country</td>\n",
       "      <td>gas</td>\n",
       "      <td>30376.0</td>\n",
       "      <td>clean</td>\n",
       "      <td>automatic</td>\n",
       "      <td>mini-van</td>\n",
       "      <td>al</td>\n",
       "    </tr>\n",
       "    <tr>\n",
       "      <th>1</th>\n",
       "      <td>7307218858</td>\n",
       "      <td>auburn</td>\n",
       "      <td>28990</td>\n",
       "      <td>2018.0</td>\n",
       "      <td>gmc</td>\n",
       "      <td>acadia sle-2 sport utility</td>\n",
       "      <td>gas</td>\n",
       "      <td>20736.0</td>\n",
       "      <td>clean</td>\n",
       "      <td>other</td>\n",
       "      <td>other</td>\n",
       "      <td>al</td>\n",
       "    </tr>\n",
       "    <tr>\n",
       "      <th>2</th>\n",
       "      <td>7307164168</td>\n",
       "      <td>auburn</td>\n",
       "      <td>16590</td>\n",
       "      <td>2013.0</td>\n",
       "      <td>lincoln</td>\n",
       "      <td>mkz sedan 4d</td>\n",
       "      <td>gas</td>\n",
       "      <td>61087.0</td>\n",
       "      <td>clean</td>\n",
       "      <td>other</td>\n",
       "      <td>sedan</td>\n",
       "      <td>al</td>\n",
       "    </tr>\n",
       "    <tr>\n",
       "      <th>3</th>\n",
       "      <td>7307164193</td>\n",
       "      <td>auburn</td>\n",
       "      <td>28990</td>\n",
       "      <td>2017.0</td>\n",
       "      <td>gmc</td>\n",
       "      <td>acadia slt-1 sport utility</td>\n",
       "      <td>gas</td>\n",
       "      <td>18041.0</td>\n",
       "      <td>clean</td>\n",
       "      <td>other</td>\n",
       "      <td>other</td>\n",
       "      <td>al</td>\n",
       "    </tr>\n",
       "    <tr>\n",
       "      <th>4</th>\n",
       "      <td>7307142186</td>\n",
       "      <td>auburn</td>\n",
       "      <td>20590</td>\n",
       "      <td>2017.0</td>\n",
       "      <td>lincoln</td>\n",
       "      <td>mkz premiere sedan 4d</td>\n",
       "      <td>gas</td>\n",
       "      <td>36436.0</td>\n",
       "      <td>clean</td>\n",
       "      <td>other</td>\n",
       "      <td>sedan</td>\n",
       "      <td>al</td>\n",
       "    </tr>\n",
       "  </tbody>\n",
       "</table>\n",
       "</div>"
      ],
      "text/plain": [
       "           id  region  price    year manufacturer                       model  \\\n",
       "0  7307730503  auburn   9500  2003.0     chrysler              town & country   \n",
       "1  7307218858  auburn  28990  2018.0          gmc  acadia sle-2 sport utility   \n",
       "2  7307164168  auburn  16590  2013.0      lincoln                mkz sedan 4d   \n",
       "3  7307164193  auburn  28990  2017.0          gmc  acadia slt-1 sport utility   \n",
       "4  7307142186  auburn  20590  2017.0      lincoln       mkz premiere sedan 4d   \n",
       "\n",
       "  fuel  odometer title_status transmission      type state  \n",
       "0  gas   30376.0        clean    automatic  mini-van    al  \n",
       "1  gas   20736.0        clean        other     other    al  \n",
       "2  gas   61087.0        clean        other     sedan    al  \n",
       "3  gas   18041.0        clean        other     other    al  \n",
       "4  gas   36436.0        clean        other     sedan    al  "
      ]
     },
     "execution_count": 38,
     "metadata": {},
     "output_type": "execute_result"
    }
   ],
   "source": [
    "data3.head()"
   ]
  },
  {
   "cell_type": "code",
   "execution_count": 39,
   "metadata": {},
   "outputs": [
    {
     "data": {
      "text/plain": [
       "array([[<AxesSubplot:title={'center':'id'}>,\n",
       "        <AxesSubplot:title={'center':'price'}>],\n",
       "       [<AxesSubplot:title={'center':'year'}>,\n",
       "        <AxesSubplot:title={'center':'odometer'}>]], dtype=object)"
      ]
     },
     "execution_count": 39,
     "metadata": {},
     "output_type": "execute_result"
    },
    {
     "data": {
      "image/png": "[encoded data removed]",
      "text/plain": [
       "<Figure size 1080x864 with 4 Axes>"
      ]
     },
     "metadata": {
      "needs_background": "light"
     },
     "output_type": "display_data"
    }
   ],
   "source": [
    "data3.hist(figsize=(15,12), bins=20)"
   ]
  },
  {
   "cell_type": "code",
   "execution_count": 40,
   "metadata": {},
   "outputs": [
    {
     "data": {
      "text/html": [
       "<div>\n",
       "<style scoped>\n",
       "    .dataframe tbody tr th:only-of-type {\n",
       "        vertical-align: middle;\n",
       "    }\n",
       "\n",
       "    .dataframe tbody tr th {\n",
       "        vertical-align: top;\n",
       "    }\n",
       "\n",
       "    .dataframe thead th {\n",
       "        text-align: right;\n",
       "    }\n",
       "</style>\n",
       "<table border=\"1\" class=\"dataframe\">\n",
       "  <thead>\n",
       "    <tr style=\"text-align: right;\">\n",
       "      <th></th>\n",
       "      <th>id</th>\n",
       "      <th>region</th>\n",
       "      <th>price</th>\n",
       "      <th>year</th>\n",
       "      <th>manufacturer</th>\n",
       "      <th>model</th>\n",
       "      <th>fuel</th>\n",
       "      <th>odometer</th>\n",
       "      <th>title_status</th>\n",
       "      <th>transmission</th>\n",
       "      <th>type</th>\n",
       "      <th>state</th>\n",
       "    </tr>\n",
       "  </thead>\n",
       "  <tbody>\n",
       "    <tr>\n",
       "      <th>0</th>\n",
       "      <td>7307730503</td>\n",
       "      <td>auburn</td>\n",
       "      <td>9500</td>\n",
       "      <td>2003.0</td>\n",
       "      <td>chrysler</td>\n",
       "      <td>town &amp; country</td>\n",
       "      <td>gas</td>\n",
       "      <td>30376.0</td>\n",
       "      <td>clean</td>\n",
       "      <td>automatic</td>\n",
       "      <td>mini-van</td>\n",
       "      <td>al</td>\n",
       "    </tr>\n",
       "    <tr>\n",
       "      <th>1</th>\n",
       "      <td>7307218858</td>\n",
       "      <td>auburn</td>\n",
       "      <td>28990</td>\n",
       "      <td>2018.0</td>\n",
       "      <td>gmc</td>\n",
       "      <td>acadia sle-2 sport utility</td>\n",
       "      <td>gas</td>\n",
       "      <td>20736.0</td>\n",
       "      <td>clean</td>\n",
       "      <td>other</td>\n",
       "      <td>other</td>\n",
       "      <td>al</td>\n",
       "    </tr>\n",
       "    <tr>\n",
       "      <th>2</th>\n",
       "      <td>7307164168</td>\n",
       "      <td>auburn</td>\n",
       "      <td>16590</td>\n",
       "      <td>2013.0</td>\n",
       "      <td>lincoln</td>\n",
       "      <td>mkz sedan 4d</td>\n",
       "      <td>gas</td>\n",
       "      <td>61087.0</td>\n",
       "      <td>clean</td>\n",
       "      <td>other</td>\n",
       "      <td>sedan</td>\n",
       "      <td>al</td>\n",
       "    </tr>\n",
       "    <tr>\n",
       "      <th>3</th>\n",
       "      <td>7307164193</td>\n",
       "      <td>auburn</td>\n",
       "      <td>28990</td>\n",
       "      <td>2017.0</td>\n",
       "      <td>gmc</td>\n",
       "      <td>acadia slt-1 sport utility</td>\n",
       "      <td>gas</td>\n",
       "      <td>18041.0</td>\n",
       "      <td>clean</td>\n",
       "      <td>other</td>\n",
       "      <td>other</td>\n",
       "      <td>al</td>\n",
       "    </tr>\n",
       "    <tr>\n",
       "      <th>4</th>\n",
       "      <td>7307142186</td>\n",
       "      <td>auburn</td>\n",
       "      <td>20590</td>\n",
       "      <td>2017.0</td>\n",
       "      <td>lincoln</td>\n",
       "      <td>mkz premiere sedan 4d</td>\n",
       "      <td>gas</td>\n",
       "      <td>36436.0</td>\n",
       "      <td>clean</td>\n",
       "      <td>other</td>\n",
       "      <td>sedan</td>\n",
       "      <td>al</td>\n",
       "    </tr>\n",
       "    <tr>\n",
       "      <th>...</th>\n",
       "      <td>...</td>\n",
       "      <td>...</td>\n",
       "      <td>...</td>\n",
       "      <td>...</td>\n",
       "      <td>...</td>\n",
       "      <td>...</td>\n",
       "      <td>...</td>\n",
       "      <td>...</td>\n",
       "      <td>...</td>\n",
       "      <td>...</td>\n",
       "      <td>...</td>\n",
       "      <td>...</td>\n",
       "    </tr>\n",
       "    <tr>\n",
       "      <th>441391</th>\n",
       "      <td>7293621541</td>\n",
       "      <td>wyoming</td>\n",
       "      <td>23590</td>\n",
       "      <td>2017.0</td>\n",
       "      <td>infiniti</td>\n",
       "      <td>qx50 sport utility 4d</td>\n",
       "      <td>gas</td>\n",
       "      <td>25738.0</td>\n",
       "      <td>clean</td>\n",
       "      <td>automatic</td>\n",
       "      <td>hatchback</td>\n",
       "      <td>wy</td>\n",
       "    </tr>\n",
       "    <tr>\n",
       "      <th>441392</th>\n",
       "      <td>7293621536</td>\n",
       "      <td>wyoming</td>\n",
       "      <td>16990</td>\n",
       "      <td>2017.0</td>\n",
       "      <td>buick</td>\n",
       "      <td>regal sport touring sedan</td>\n",
       "      <td>gas</td>\n",
       "      <td>36688.0</td>\n",
       "      <td>clean</td>\n",
       "      <td>other</td>\n",
       "      <td>sedan</td>\n",
       "      <td>wy</td>\n",
       "    </tr>\n",
       "    <tr>\n",
       "      <th>441393</th>\n",
       "      <td>7293621577</td>\n",
       "      <td>wyoming</td>\n",
       "      <td>21590</td>\n",
       "      <td>2013.0</td>\n",
       "      <td>bmw</td>\n",
       "      <td>5 series 535i sedan 4d</td>\n",
       "      <td>other</td>\n",
       "      <td>44366.0</td>\n",
       "      <td>clean</td>\n",
       "      <td>automatic</td>\n",
       "      <td>sedan</td>\n",
       "      <td>wy</td>\n",
       "    </tr>\n",
       "    <tr>\n",
       "      <th>441394</th>\n",
       "      <td>7293621534</td>\n",
       "      <td>wyoming</td>\n",
       "      <td>26990</td>\n",
       "      <td>2016.0</td>\n",
       "      <td>bmw</td>\n",
       "      <td>4 series 435i gran coupe 4d</td>\n",
       "      <td>other</td>\n",
       "      <td>43934.0</td>\n",
       "      <td>clean</td>\n",
       "      <td>other</td>\n",
       "      <td>coupe</td>\n",
       "      <td>wy</td>\n",
       "    </tr>\n",
       "    <tr>\n",
       "      <th>441395</th>\n",
       "      <td>7293621515</td>\n",
       "      <td>wyoming</td>\n",
       "      <td>19990</td>\n",
       "      <td>2018.0</td>\n",
       "      <td>buick</td>\n",
       "      <td>envision preferred sport</td>\n",
       "      <td>gas</td>\n",
       "      <td>33104.0</td>\n",
       "      <td>clean</td>\n",
       "      <td>automatic</td>\n",
       "      <td>SUV</td>\n",
       "      <td>wy</td>\n",
       "    </tr>\n",
       "  </tbody>\n",
       "</table>\n",
       "<p>441396 rows × 12 columns</p>\n",
       "</div>"
      ],
      "text/plain": [
       "                id   region  price    year manufacturer  \\\n",
       "0       7307730503   auburn   9500  2003.0     chrysler   \n",
       "1       7307218858   auburn  28990  2018.0          gmc   \n",
       "2       7307164168   auburn  16590  2013.0      lincoln   \n",
       "3       7307164193   auburn  28990  2017.0          gmc   \n",
       "4       7307142186   auburn  20590  2017.0      lincoln   \n",
       "...            ...      ...    ...     ...          ...   \n",
       "441391  7293621541  wyoming  23590  2017.0     infiniti   \n",
       "441392  7293621536  wyoming  16990  2017.0        buick   \n",
       "441393  7293621577  wyoming  21590  2013.0          bmw   \n",
       "441394  7293621534  wyoming  26990  2016.0          bmw   \n",
       "441395  7293621515  wyoming  19990  2018.0        buick   \n",
       "\n",
       "                              model   fuel  odometer title_status  \\\n",
       "0                    town & country    gas   30376.0        clean   \n",
       "1        acadia sle-2 sport utility    gas   20736.0        clean   \n",
       "2                      mkz sedan 4d    gas   61087.0        clean   \n",
       "3        acadia slt-1 sport utility    gas   18041.0        clean   \n",
       "4             mkz premiere sedan 4d    gas   36436.0        clean   \n",
       "...                             ...    ...       ...          ...   \n",
       "441391        qx50 sport utility 4d    gas   25738.0        clean   \n",
       "441392    regal sport touring sedan    gas   36688.0        clean   \n",
       "441393       5 series 535i sedan 4d  other   44366.0        clean   \n",
       "441394  4 series 435i gran coupe 4d  other   43934.0        clean   \n",
       "441395     envision preferred sport    gas   33104.0        clean   \n",
       "\n",
       "       transmission       type state  \n",
       "0         automatic   mini-van    al  \n",
       "1             other      other    al  \n",
       "2             other      sedan    al  \n",
       "3             other      other    al  \n",
       "4             other      sedan    al  \n",
       "...             ...        ...   ...  \n",
       "441391    automatic  hatchback    wy  \n",
       "441392        other      sedan    wy  \n",
       "441393    automatic      sedan    wy  \n",
       "441394        other      coupe    wy  \n",
       "441395    automatic        SUV    wy  \n",
       "\n",
       "[441396 rows x 12 columns]"
      ]
     },
     "execution_count": 40,
     "metadata": {},
     "output_type": "execute_result"
    }
   ],
   "source": [
    "def get_num_cols(data3):\n",
    "    num_cols = [col for col in data3.columns if pd.api.types.is_numeric_dtype(data3[col])]\n",
    "    return num_cols\n",
    "\n",
    "def clear_outliers(data3):\n",
    "    for col in get_num_cols(data3):\n",
    "        Q1 = np.percentile(data3[col], 25)\n",
    "        Q3 = np.percentile(data3[col],75)\n",
    "\n",
    "        # Interquartile range\n",
    "        IQR = Q3 - Q1\n",
    "        outlier_step = 1.5 * IQR\n",
    "\n",
    "        # Outliers indices\n",
    "        outliers_indicies = data3[(data3[col] < Q1 - outlier_step) | (data3[col] > Q3 + outlier_step )].index\n",
    "        data.drop(outliers_indicies, axis = 0)\n",
    "    \n",
    "    return data3\n",
    "    \n",
    "clear_outliers(data3)"
   ]
  },
  {
   "cell_type": "code",
   "execution_count": 41,
   "metadata": {},
   "outputs": [],
   "source": [
    "le = LabelEncoder()"
   ]
  },
  {
   "cell_type": "code",
   "execution_count": 42,
   "metadata": {},
   "outputs": [],
   "source": [
    "data3[['region','manufacturer','model','fuel',\n",
    "        'title_status','transmission','type',\n",
    "        'state']] = data3[['region','manufacturer','model',\n",
    "        'fuel','title_status','transmission',\n",
    "        'type','state']].apply(le.fit_transform)"
   ]
  },
  {
   "cell_type": "code",
   "execution_count": 43,
   "metadata": {},
   "outputs": [
    {
     "data": {
      "text/html": [
       "<div>\n",
       "<style scoped>\n",
       "    .dataframe tbody tr th:only-of-type {\n",
       "        vertical-align: middle;\n",
       "    }\n",
       "\n",
       "    .dataframe tbody tr th {\n",
       "        vertical-align: top;\n",
       "    }\n",
       "\n",
       "    .dataframe thead th {\n",
       "        text-align: right;\n",
       "    }\n",
       "</style>\n",
       "<table border=\"1\" class=\"dataframe\">\n",
       "  <thead>\n",
       "    <tr style=\"text-align: right;\">\n",
       "      <th></th>\n",
       "      <th>id</th>\n",
       "      <th>region</th>\n",
       "      <th>price</th>\n",
       "      <th>year</th>\n",
       "      <th>manufacturer</th>\n",
       "      <th>model</th>\n",
       "      <th>fuel</th>\n",
       "      <th>odometer</th>\n",
       "      <th>title_status</th>\n",
       "      <th>transmission</th>\n",
       "      <th>type</th>\n",
       "      <th>state</th>\n",
       "    </tr>\n",
       "  </thead>\n",
       "  <tbody>\n",
       "    <tr>\n",
       "      <th>0</th>\n",
       "      <td>7307730503</td>\n",
       "      <td>16</td>\n",
       "      <td>9500</td>\n",
       "      <td>2003.0</td>\n",
       "      <td>8</td>\n",
       "      <td>27604</td>\n",
       "      <td>2</td>\n",
       "      <td>30376.0</td>\n",
       "      <td>0</td>\n",
       "      <td>1</td>\n",
       "      <td>5</td>\n",
       "      <td>1</td>\n",
       "    </tr>\n",
       "    <tr>\n",
       "      <th>1</th>\n",
       "      <td>7307218858</td>\n",
       "      <td>16</td>\n",
       "      <td>28990</td>\n",
       "      <td>2018.0</td>\n",
       "      <td>14</td>\n",
       "      <td>7834</td>\n",
       "      <td>2</td>\n",
       "      <td>20736.0</td>\n",
       "      <td>0</td>\n",
       "      <td>3</td>\n",
       "      <td>7</td>\n",
       "      <td>1</td>\n",
       "    </tr>\n",
       "    <tr>\n",
       "      <th>2</th>\n",
       "      <td>7307164168</td>\n",
       "      <td>16</td>\n",
       "      <td>16590</td>\n",
       "      <td>2013.0</td>\n",
       "      <td>24</td>\n",
       "      <td>20478</td>\n",
       "      <td>2</td>\n",
       "      <td>61087.0</td>\n",
       "      <td>0</td>\n",
       "      <td>3</td>\n",
       "      <td>9</td>\n",
       "      <td>1</td>\n",
       "    </tr>\n",
       "    <tr>\n",
       "      <th>3</th>\n",
       "      <td>7307164193</td>\n",
       "      <td>16</td>\n",
       "      <td>28990</td>\n",
       "      <td>2017.0</td>\n",
       "      <td>14</td>\n",
       "      <td>7850</td>\n",
       "      <td>2</td>\n",
       "      <td>18041.0</td>\n",
       "      <td>0</td>\n",
       "      <td>3</td>\n",
       "      <td>7</td>\n",
       "      <td>1</td>\n",
       "    </tr>\n",
       "    <tr>\n",
       "      <th>4</th>\n",
       "      <td>7307142186</td>\n",
       "      <td>16</td>\n",
       "      <td>20590</td>\n",
       "      <td>2017.0</td>\n",
       "      <td>24</td>\n",
       "      <td>20467</td>\n",
       "      <td>2</td>\n",
       "      <td>36436.0</td>\n",
       "      <td>0</td>\n",
       "      <td>3</td>\n",
       "      <td>9</td>\n",
       "      <td>1</td>\n",
       "    </tr>\n",
       "    <tr>\n",
       "      <th>...</th>\n",
       "      <td>...</td>\n",
       "      <td>...</td>\n",
       "      <td>...</td>\n",
       "      <td>...</td>\n",
       "      <td>...</td>\n",
       "      <td>...</td>\n",
       "      <td>...</td>\n",
       "      <td>...</td>\n",
       "      <td>...</td>\n",
       "      <td>...</td>\n",
       "      <td>...</td>\n",
       "      <td>...</td>\n",
       "    </tr>\n",
       "    <tr>\n",
       "      <th>441391</th>\n",
       "      <td>7293621541</td>\n",
       "      <td>397</td>\n",
       "      <td>23590</td>\n",
       "      <td>2017.0</td>\n",
       "      <td>18</td>\n",
       "      <td>22773</td>\n",
       "      <td>2</td>\n",
       "      <td>25738.0</td>\n",
       "      <td>0</td>\n",
       "      <td>1</td>\n",
       "      <td>4</td>\n",
       "      <td>50</td>\n",
       "    </tr>\n",
       "    <tr>\n",
       "      <th>441392</th>\n",
       "      <td>7293621536</td>\n",
       "      <td>397</td>\n",
       "      <td>16990</td>\n",
       "      <td>2017.0</td>\n",
       "      <td>5</td>\n",
       "      <td>23302</td>\n",
       "      <td>2</td>\n",
       "      <td>36688.0</td>\n",
       "      <td>0</td>\n",
       "      <td>3</td>\n",
       "      <td>9</td>\n",
       "      <td>50</td>\n",
       "    </tr>\n",
       "    <tr>\n",
       "      <th>441393</th>\n",
       "      <td>7293621577</td>\n",
       "      <td>397</td>\n",
       "      <td>21590</td>\n",
       "      <td>2013.0</td>\n",
       "      <td>4</td>\n",
       "      <td>3389</td>\n",
       "      <td>4</td>\n",
       "      <td>44366.0</td>\n",
       "      <td>0</td>\n",
       "      <td>1</td>\n",
       "      <td>9</td>\n",
       "      <td>50</td>\n",
       "    </tr>\n",
       "    <tr>\n",
       "      <th>441394</th>\n",
       "      <td>7293621534</td>\n",
       "      <td>397</td>\n",
       "      <td>26990</td>\n",
       "      <td>2016.0</td>\n",
       "      <td>4</td>\n",
       "      <td>3105</td>\n",
       "      <td>4</td>\n",
       "      <td>43934.0</td>\n",
       "      <td>0</td>\n",
       "      <td>3</td>\n",
       "      <td>3</td>\n",
       "      <td>50</td>\n",
       "    </tr>\n",
       "    <tr>\n",
       "      <th>441395</th>\n",
       "      <td>7293621515</td>\n",
       "      <td>397</td>\n",
       "      <td>19990</td>\n",
       "      <td>2018.0</td>\n",
       "      <td>5</td>\n",
       "      <td>13509</td>\n",
       "      <td>2</td>\n",
       "      <td>33104.0</td>\n",
       "      <td>0</td>\n",
       "      <td>1</td>\n",
       "      <td>0</td>\n",
       "      <td>50</td>\n",
       "    </tr>\n",
       "  </tbody>\n",
       "</table>\n",
       "<p>441396 rows × 12 columns</p>\n",
       "</div>"
      ],
      "text/plain": [
       "                id  region  price    year  manufacturer  model  fuel  \\\n",
       "0       7307730503      16   9500  2003.0             8  27604     2   \n",
       "1       7307218858      16  28990  2018.0            14   7834     2   \n",
       "2       7307164168      16  16590  2013.0            24  20478     2   \n",
       "3       7307164193      16  28990  2017.0            14   7850     2   \n",
       "4       7307142186      16  20590  2017.0            24  20467     2   \n",
       "...            ...     ...    ...     ...           ...    ...   ...   \n",
       "441391  7293621541     397  23590  2017.0            18  22773     2   \n",
       "441392  7293621536     397  16990  2017.0             5  23302     2   \n",
       "441393  7293621577     397  21590  2013.0             4   3389     4   \n",
       "441394  7293621534     397  26990  2016.0             4   3105     4   \n",
       "441395  7293621515     397  19990  2018.0             5  13509     2   \n",
       "\n",
       "        odometer  title_status  transmission  type  state  \n",
       "0        30376.0             0             1     5      1  \n",
       "1        20736.0             0             3     7      1  \n",
       "2        61087.0             0             3     9      1  \n",
       "3        18041.0             0             3     7      1  \n",
       "4        36436.0             0             3     9      1  \n",
       "...          ...           ...           ...   ...    ...  \n",
       "441391   25738.0             0             1     4     50  \n",
       "441392   36688.0             0             3     9     50  \n",
       "441393   44366.0             0             1     9     50  \n",
       "441394   43934.0             0             3     3     50  \n",
       "441395   33104.0             0             1     0     50  \n",
       "\n",
       "[441396 rows x 12 columns]"
      ]
     },
     "execution_count": 43,
     "metadata": {},
     "output_type": "execute_result"
    }
   ],
   "source": [
    "data3"
   ]
  },
  {
   "cell_type": "code",
   "execution_count": 44,
   "metadata": {},
   "outputs": [],
   "source": [
    "# selecting features, X\n",
    "X = data3.iloc[:, :-1].values\n",
    "# selecting labels, y\n",
    "y = data3.iloc[:, -1].values"
   ]
  },
  {
   "cell_type": "code",
   "execution_count": 45,
   "metadata": {},
   "outputs": [],
   "source": [
    "# normalize the data\n",
    "X = StandardScaler().fit_transform(X.astype(float))"
   ]
  },
  {
   "cell_type": "code",
   "execution_count": 46,
   "metadata": {},
   "outputs": [
    {
     "name": "stdout",
     "output_type": "stream",
     "text": [
      "Train set:  (353116, 11) (353116,)\n",
      "Test set:  (88280, 11) (88280,)\n"
     ]
    }
   ],
   "source": [
    "# to split the data\n",
    "# split into train and test\n",
    "X_train, X_test, y_train, y_test = train_test_split(X, y, test_size=0.2, random_state=42)\n",
    "print('Train set: ', X_train.shape, y_train.shape)\n",
    "print('Test set: ', X_test.shape, y_test.shape)"
   ]
  },
  {
   "cell_type": "code",
   "execution_count": 47,
   "metadata": {},
   "outputs": [
    {
     "data": {
      "text/plain": [
       "LinearRegression()"
      ]
     },
     "execution_count": 47,
     "metadata": {},
     "output_type": "execute_result"
    }
   ],
   "source": [
    "# to create the linear reg model\n",
    "reg = LinearRegression()\n",
    "reg.fit(X_train, y_train)  # fit the model to train set"
   ]
  },
  {
   "cell_type": "code",
   "execution_count": 48,
   "metadata": {},
   "outputs": [],
   "source": [
    "# to evaluate test set values\n",
    "y_pred = reg.predict(X_test)"
   ]
  },
  {
   "cell_type": "code",
   "execution_count": 49,
   "metadata": {},
   "outputs": [
    {
     "name": "stdout",
     "output_type": "stream",
     "text": [
      "Mean Absolute Error:  13.569\n",
      "Mean Squared Error:  230.166\n",
      "Root Mean Squared Error:  15.171\n",
      "R2 score:  0.007\n"
     ]
    }
   ],
   "source": [
    "print('Mean Absolute Error: ', round(metrics.mean_absolute_error(y_test, y_pred), 3))\n",
    "print('Mean Squared Error: ', round(metrics.mean_squared_error(y_test, y_pred), 3))\n",
    "print('Root Mean Squared Error: ', round(np.sqrt(metrics.mean_squared_error(y_test, y_pred)), 3))\n",
    "print('R2 score: ', round(r2_score(y_test, y_pred), 3))"
   ]
  },
  {
   "cell_type": "code",
   "execution_count": 50,
   "metadata": {},
   "outputs": [
    {
     "data": {
      "text/plain": [
       "ExtraTreesRegressor(n_estimators=400, random_state=42)"
      ]
     },
     "execution_count": 50,
     "metadata": {},
     "output_type": "execute_result"
    }
   ],
   "source": [
    "r = ExtraTreesRegressor(n_estimators=400, random_state=42)\n",
    "r.fit(X_train, y_train.ravel())"
   ]
  },
  {
   "cell_type": "code",
   "execution_count": 51,
   "metadata": {},
   "outputs": [],
   "source": [
    "y_predET = r.predict(X_test)"
   ]
  },
  {
   "cell_type": "code",
   "execution_count": 52,
   "metadata": {},
   "outputs": [
    {
     "name": "stdout",
     "output_type": "stream",
     "text": [
      "Mean Absolute Error:  0.714\n",
      "Mean Squared Error:  3.596\n",
      "Root Mean Squared Error:  1.896\n",
      "R2 score:  0.984\n"
     ]
    }
   ],
   "source": [
    "print('Mean Absolute Error: ', round(metrics.mean_absolute_error(y_test, y_predET), 3))\n",
    "print('Mean Squared Error: ', round(metrics.mean_squared_error(y_test, y_predET), 3))\n",
    "print('Root Mean Squared Error: ', round(np.sqrt(metrics.mean_squared_error(y_test, y_predET)), 3))\n",
    "print('R2 score: ', round(r2_score(y_test, y_predET), 3))"
   ]
  },
  {
   "cell_type": "code",
   "execution_count": null,
   "metadata": {},
   "outputs": [],
   "source": []
  }
 ],
 "metadata": {
  "kernelspec": {
   "display_name": "Python 3",
   "language": "python",
   "name": "python3"
  },
  "language_info": {
   "codemirror_mode": {
    "name": "ipython",
    "version": 3
   },
   "file_extension": ".py",
   "mimetype": "text/x-python",
   "name": "python",
   "nbconvert_exporter": "python",
   "pygments_lexer": "ipython3",
   "version": "3.8.5"
  }
 },
 "nbformat": 4,
 "nbformat_minor": 4
}
